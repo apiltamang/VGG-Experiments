{
 "cells": [
  {
   "cell_type": "code",
   "execution_count": 1,
   "metadata": {},
   "outputs": [
    {
     "name": "stdout",
     "output_type": "stream",
     "text": [
      "/Users/apil.tamang/Git/VGG-Experiments\n"
     ]
    }
   ],
   "source": [
    "import os\n",
    "print (os.getcwd())"
   ]
  },
  {
   "cell_type": "code",
   "execution_count": 2,
   "metadata": {},
   "outputs": [
    {
     "name": "stdout",
     "output_type": "stream",
     "text": [
      "7627\n"
     ]
    }
   ],
   "source": [
    "from os.path import join\n",
    "# file paths to training and validation samples\n",
    "\n",
    "gFilesBase = \"/Users/apil.tamang/kaggle_cervical_cancer_code/segmented_src\"\n",
    "filepaths = []\n",
    "filepaths.append( join(gFilesBase, \"train/Type_1/\") )\n",
    "filepaths.append( join(gFilesBase, \"train/Type_2/\") )\n",
    "filepaths.append( join(gFilesBase, \"train/Type_3/\") )\n",
    "\n",
    "filepaths.append( join(gFilesBase, \"valid/Type_1/\") )\n",
    "filepaths.append( join(gFilesBase, \"valid/Type_2/\") )\n",
    "filepaths.append( join(gFilesBase, \"valid/Type_3/\") )\n",
    "\n",
    "# Get list of all the training images\n",
    "import glob\n",
    "allFiles = []\n",
    "\n",
    "for i, filepath in enumerate(filepaths):\n",
    "    files = glob.glob(filepath + '*.jpg')\n",
    "    allFiles = allFiles + files\n",
    "\n",
    "print(len(allFiles))"
   ]
  },
  {
   "cell_type": "code",
   "execution_count": 3,
   "metadata": {
    "collapsed": true
   },
   "outputs": [],
   "source": [
    "train_valid_fraction = 0.8"
   ]
  },
  {
   "cell_type": "code",
   "execution_count": 4,
   "metadata": {},
   "outputs": [
    {
     "name": "stdout",
     "output_type": "stream",
     "text": [
      "Train patients: 6101\n",
      "Valid patients: 1526\n"
     ]
    }
   ],
   "source": [
    "### Create training and validation list by splitting data based on specified *train_valid_fraction*\n",
    "\n",
    "import random\n",
    "split_point = int(train_valid_fraction*len(allFiles))\n",
    "\n",
    "random.shuffle(allFiles)\n",
    "\n",
    "train_list = allFiles[:split_point]\n",
    "valid_list = allFiles[split_point:]\n",
    "print('Train patients: {}'.format(len(train_list)))\n",
    "print('Valid patients: {}'.format(len(valid_list)))"
   ]
  },
  {
   "cell_type": "code",
   "execution_count": 5,
   "metadata": {},
   "outputs": [],
   "source": [
    "import cv2\n",
    "import numpy as np\n",
    "\n",
    "def batch_generator_train2(files):\n",
    "    random.shuffle(files)\n",
    "    image_list = []\n",
    "    mask_list = []\n",
    "    for f in files:\n",
    "        image = cv2.imread(f)\n",
    "\n",
    "        #commenting this out, because the shape of the\n",
    "        #image is already set to desired (224x224)\n",
    "        i#mage = cv2.resize(image, conf['image_shape'])\n",
    "\n",
    "        if \"Type_1\" in f:\n",
    "            mask = [1, 0, 0]\n",
    "        elif \"Type_2\" in f:\n",
    "            mask = [0, 1, 0]\n",
    "        elif \"Type_3\" in f:\n",
    "            mask = [0, 0, 1]\n",
    "        else:\n",
    "            raise RuntimeError(\"Bad file name, couldn't determine cancer type\")\n",
    "\n",
    "        image_list.append(image)\n",
    "        mask_list.append(mask)\n",
    "\n",
    "    image_list = np.array(image_list)\n",
    "    mask_list = np.array(mask_list)\n",
    "    return (image_list, mask_list)\n",
    "\n",
    "def GetDataFromFileLists(trainList, validList):\n",
    "    (X_train, Y_train) = batch_generator_train2(trainList)\n",
    "    (X_valid, Y_valid) = batch_generator_train2(validList)\n",
    "    return (X_train, Y_train), (X_valid, Y_valid)\n",
    "            \n",
    "           \n",
    "(X_train, Y_train), (X_valid, Y_valid) = GetDataFromFileLists(train_list, valid_list)"
   ]
  },
  {
   "cell_type": "code",
   "execution_count": 7,
   "metadata": {
    "collapsed": true
   },
   "outputs": [],
   "source": [
    "def preprocess_input(x):\n",
    "    x[:, :, :, 0] -= 103.939\n",
    "    x[:, :, :, 1] -= 116.779\n",
    "    x[:, :, :, 2] -= 123.68\n",
    "    # 'RGB'->'BGR'\n",
    "    x = x[:, :, :, ::-1]\n",
    "    return x\n"
   ]
  },
  {
   "cell_type": "code",
   "execution_count": 8,
   "metadata": {},
   "outputs": [],
   "source": [
    "X_train = preprocess_input(X_train.astype(np.float))\n",
    "X_valid = preprocess_input(X_valid.astype(np.float))"
   ]
  },
  {
   "cell_type": "code",
   "execution_count": 9,
   "metadata": {
    "collapsed": true
   },
   "outputs": [],
   "source": [
    "import numpy as np\n",
    "np.save(\"X_train.224x224.npy\",X_train)\n",
    "np.save(\"X_valid.224x224.npy\",X_valid)\n",
    "np.save(\"Y_train.224x224.npy\",Y_train)\n",
    "np.save(\"Y_valid.224x224.npy\",Y_valid)"
   ]
  }
 ],
 "metadata": {
  "kernelspec": {
   "display_name": "Python 3",
   "language": "python",
   "name": "python3"
  },
  "language_info": {
   "codemirror_mode": {
    "name": "ipython",
    "version": 3
   },
   "file_extension": ".py",
   "mimetype": "text/x-python",
   "name": "python",
   "nbconvert_exporter": "python",
   "pygments_lexer": "ipython3",
   "version": "3.6.1"
  }
 },
 "nbformat": 4,
 "nbformat_minor": 2
}
